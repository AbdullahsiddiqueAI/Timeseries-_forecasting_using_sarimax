{
 "cells": [
  {
   "cell_type": "code",
   "execution_count": null,
   "id": "3ca1fca0",
   "metadata": {},
   "outputs": [],
   "source": [
    "# SARIMAX (Seasonal AutoRegressive Integrated Moving-Average with eXogenous regressors) Model\n",
    "# When to use SARIMAX:\n",
    "\n",
    "# Seasonal Data: SARIMAX is appropriate for time series data that exhibits seasonality.\n",
    "#     It extends the ARIMA model to capture seasonal effects with seasonal AR, I, and MA\n",
    "#     components.\n",
    "# Multivariate Time Series: SARIMAX can incorporate exogenous variable\n",
    "#     s (additional predictors) which can improve forecasting accuracy if there are \n",
    "#     external factors influencing the time series.\n",
    "# Complex Structures: When your data exhibits both seasonal patterns and non-seasonal\n",
    "#     patterns, SARIMAX can capture these complexities."
   ]
  },
  {
   "cell_type": "code",
   "execution_count": null,
   "id": "ea9abe65",
   "metadata": {},
   "outputs": [],
   "source": [
    "# ARIMA (AutoRegressive Integrated Moving Average) Model\n",
    "# When to use ARIMA:\n",
    "\n",
    "# Non-Seasonal Data: ARIMA is suitable for time series data that does not exhibit\n",
    "#     seasonality. It can handle trends and non-stationary data by differencing.\n",
    "# Univariate Time Series: ARIMA models are designed for univariate time series, where \n",
    "#     you are modeling and forecasting a single variable.\n",
    "# Simple Structures: When your data can be well-modeled with just AR (autoregressive) \n",
    "#     terms, I (integrated, or differencing) terms, and MA (moving average) terms."
   ]
  },
  {
   "cell_type": "code",
   "execution_count": null,
   "id": "f93a2077",
   "metadata": {},
   "outputs": [],
   "source": [
    "# dataset link \n",
    "# https://github.com/viniciusov/candy-production/blob/master/candy_production.csv"
   ]
  },
  {
   "cell_type": "code",
   "execution_count": null,
   "id": "673077f5",
   "metadata": {},
   "outputs": [],
   "source": [
    "import pandas as pd\n",
    "candy_prod_dataset = pd.read_csv('./data/candy_production.csv')\n",
    "candy_prod_dataset.head()"
   ]
  },
  {
   "cell_type": "code",
   "execution_count": null,
   "id": "f64e0713",
   "metadata": {},
   "outputs": [],
   "source": [
    "candy_prod_dataset['observation_date'] = pd.to_datetime(candy_prod_dataset['observation_date'],\n",
    "                                             infer_datetime_format=True)\n",
    "candy_prod_dataset.head()"
   ]
  },
  {
   "cell_type": "code",
   "execution_count": null,
   "id": "087eb1f2",
   "metadata": {},
   "outputs": [],
   "source": [
    "indexed_candy_prod_dataset = candy_prod_dataset.set_index(['observation_date'])\n",
    "indexed_candy_prod_dataset = indexed_candy_prod_dataset['IPG3113N']\n",
    "indexed_candy_prod_dataset.head()"
   ]
  },
  {
   "cell_type": "code",
   "execution_count": null,
   "id": "66f0939e",
   "metadata": {},
   "outputs": [],
   "source": [
    "indexed_candy_prod_dataset.info()"
   ]
  },
  {
   "cell_type": "code",
   "execution_count": null,
   "id": "a80887a6",
   "metadata": {},
   "outputs": [],
   "source": [
    "from statsmodels.tsa.seasonal import seasonal_decompose \n",
    "decompose_data = seasonal_decompose(indexed_candy_prod_dataset,model=\"additive\")\n",
    "decompose_data.plot()"
   ]
  },
  {
   "cell_type": "code",
   "execution_count": null,
   "id": "8e05fb45",
   "metadata": {},
   "outputs": [],
   "source": [
    "def test_stationarity(timeseries):\n",
    "    import matplotlib.pyplot as plt \n",
    "    timeseries.dropna(inplace=True)\n",
    "    rolmean = timeseries.rolling(window=12).mean()\n",
    "    rolstd = timeseries.rolling(window=12).std()\n",
    "\n",
    "    orig = plt.plot(timeseries,label='Orignal')\n",
    "    mean = plt.plot(rolmean,label='Roling mean')\n",
    "    std = plt.plot(rolstd,label='rolling std')\n",
    "    plt.legend(loc='best')\n",
    "    plt.show()\n",
    "    from statsmodels.tsa.stattools import adfuller\n",
    "    dftest = adfuller(timeseries)\n",
    "    print(\"1. ADF : \",dftest[0])\n",
    "    print(\"2. P_value  : \",dftest[1])\n",
    "    print(\"3. Num od Lags : \",dftest[2])\n",
    "    print(\"4. Num od observations used for ADF regression and critical values calculation : \",dftest[3])\n",
    "    print(\"5. Critical values : \") \n",
    "    for key, val in dftest[4].items():\n",
    "        print(\"\\t\",key, \": \",val)\n",
    "#            .)p value is 8 so its not statinary .  "
   ]
  },
  {
   "cell_type": "code",
   "execution_count": null,
   "id": "e4cb550d",
   "metadata": {},
   "outputs": [],
   "source": [
    "test_stationarity(indexed_candy_prod_dataset)"
   ]
  },
  {
   "cell_type": "code",
   "execution_count": null,
   "id": "5dc747ec",
   "metadata": {},
   "outputs": [],
   "source": [
    "import numpy as np \n",
    "indexed_candy_prod_dataset_log_scaled = np.log(indexed_candy_prod_dataset)\n",
    "test_stationarity(indexed_candy_prod_dataset_log_scaled)"
   ]
  },
  {
   "cell_type": "code",
   "execution_count": null,
   "id": "f811e496",
   "metadata": {},
   "outputs": [],
   "source": [
    "ma = indexed_candy_prod_dataset_log_scaled.rolling(window=12).mean()\n",
    "indexed_candy_prod_dataset_log_scaled_minus_ma = indexed_candy_prod_dataset_log_scaled - ma"
   ]
  },
  {
   "cell_type": "code",
   "execution_count": null,
   "id": "22fc7902",
   "metadata": {},
   "outputs": [],
   "source": [
    "test_stationarity(indexed_candy_prod_dataset_log_scaled_minus_ma)"
   ]
  },
  {
   "cell_type": "code",
   "execution_count": null,
   "id": "39a2fc1b",
   "metadata": {},
   "outputs": [],
   "source": [
    "from statsmodels.tsa.stattools import acf,pacf \n",
    "from statsmodels.graphics.tsaplots import plot_pacf,plot_acf\n",
    "pacf = pacf(indexed_candy_prod_dataset_log_scaled_minus_ma,nlags=140)\n",
    "acf = acf(indexed_candy_prod_dataset_log_scaled_minus_ma,nlags=70)\n",
    "plot_acf(acf)\n",
    "plot_pacf(pacf)"
   ]
  },
  {
   "cell_type": "code",
   "execution_count": null,
   "id": "5cb1deed",
   "metadata": {},
   "outputs": [],
   "source": [
    "import statsmodels.api as sm\n",
    "from sklearn.model_selection import train_test_split \n",
    "indexed_candy_prod_dataset_log_scaled_minus_ma.dropna(inplace=True)\n",
    "train,test = train_test_split(indexed_candy_prod_dataset_log_scaled_minus_ma,\n",
    "                              test_size=0.10,shuffle=False)\n",
    "\n",
    "model_arima=sm.tsa.arima.ARIMA(train,order=(1,1,2))\n",
    "model_arima=model_arima.fit()\n",
    "prediction = model_arima.predict(start ='2013-03-01',end='2017-08-01')"
   ]
  },
  {
   "cell_type": "code",
   "execution_count": null,
   "id": "649b90fa",
   "metadata": {},
   "outputs": [],
   "source": [
    "from sklearn.metrics import mean_squared_error\n",
    "import matplotlib.pyplot as plt\n",
    "error = mean_squared_error(test,prediction)\n",
    "print('Test MSE %.3f' %error)\n",
    "# pacf,acf prediction of p,q plot.\n",
    "predict = np.exp(prediction)\n",
    "test_set = np.exp(test)\n",
    "plt.plot(test_set)\n",
    "plt.plot(predict,color='red')\n",
    "plt.show()"
   ]
  },
  {
   "cell_type": "code",
   "execution_count": null,
   "id": "661b7da4",
   "metadata": {},
   "outputs": [],
   "source": [
    "# finding p and q by custon hit and trial.\n",
    "import itertools\n",
    "p = range(0,8)\n",
    "q= range(0,8)\n",
    "d = range(0,2)\n",
    "pdq_combinations = list(itertools.product(p,d,q))\n",
    "rmse=[]\n",
    "order1 = []\n"
   ]
  },
  {
   "cell_type": "code",
   "execution_count": null,
   "id": "9aa3cd73",
   "metadata": {},
   "outputs": [],
   "source": [
    "# import statsmodels.api as sm\n",
    "# from sklearn.metrics import mean_squared_error\n",
    "# for pdq in pdq_combinations:\n",
    "#     model_arima=sm.tsa.arima.ARIMA(train,order=pdq)\n",
    "#     model_arima=model_arima.fit()\n",
    "#     prediction = model_arima.predict(start ='2013-03-01',end='2017-08-01')\n",
    "#     error = np.sqrt(mean_squared_error(test,prediction))\n",
    "#     order1.append(pdq)\n",
    "#     rmse.append(error)"
   ]
  },
  {
   "cell_type": "code",
   "execution_count": null,
   "id": "73c38c83",
   "metadata": {},
   "outputs": [],
   "source": [
    "results = pd.DataFrame(index=order1,data=rmse,columns=['RMSE'])"
   ]
  },
  {
   "cell_type": "code",
   "execution_count": null,
   "id": "7852d1a8",
   "metadata": {},
   "outputs": [],
   "source": [
    "results.head()"
   ]
  },
  {
   "cell_type": "code",
   "execution_count": null,
   "id": "dd73bb20",
   "metadata": {},
   "outputs": [],
   "source": [
    "# pqd_value = results[results['RMSE'] == results['RMSE'].min()]\n",
    "# pqd_value = pqd_value.index[0]"
   ]
  },
  {
   "cell_type": "code",
   "execution_count": null,
   "id": "40263ff0",
   "metadata": {},
   "outputs": [],
   "source": [
    "# pqd_value"
   ]
  },
  {
   "cell_type": "code",
   "execution_count": null,
   "id": "ee62affd",
   "metadata": {},
   "outputs": [],
   "source": [
    "model_arima=sm.tsa.arima.ARIMA(train,order=(7,0,3))\n",
    "model_arima=model_arima.fit()\n",
    "prediction = model_arima.predict(start ='2013-03-01',end='2017-08-01')\n",
    "from sklearn.metrics import mean_squared_error\n",
    "error = mean_squared_error(test,prediction)\n",
    "print('Test MSE %.3f' %error)\n",
    "\n",
    "predict = np.exp(prediction)\n",
    "test_set = np.exp(test)\n",
    "plt.plot(test_set)\n",
    "plt.plot(predict,color='red')\n",
    "plt.show()"
   ]
  },
  {
   "cell_type": "code",
   "execution_count": null,
   "id": "862e544f",
   "metadata": {},
   "outputs": [],
   "source": [
    "model_sarimx=sm.tsa.statespace.SARIMAX(train,order=(7,0,3),seasonal_order=(7,0,3,12))\n",
    "model_sarimx=model_sarimx.fit()\n",
    "prediction = model_sarimx.predict(start ='2013-03-01',end='2017-08-01')"
   ]
  },
  {
   "cell_type": "code",
   "execution_count": null,
   "id": "52097502",
   "metadata": {},
   "outputs": [],
   "source": [
    "error = mean_squared_error(test,prediction)\n",
    "print('Test MSE %.3f' %error)\n",
    "# pacf,acf prediction of p,q plot.\n",
    "predict = np.exp(prediction)\n",
    "test_set = np.exp(test)\n",
    "plt.plot(test_set)\n",
    "plt.plot(predict,color='red')\n",
    "plt.show()"
   ]
  },
  {
   "cell_type": "code",
   "execution_count": null,
   "id": "4236a408",
   "metadata": {},
   "outputs": [],
   "source": []
  },
  {
   "cell_type": "code",
   "execution_count": null,
   "id": "19a99f49",
   "metadata": {},
   "outputs": [],
   "source": []
  },
  {
   "cell_type": "code",
   "execution_count": null,
   "id": "29df14da",
   "metadata": {},
   "outputs": [],
   "source": []
  },
  {
   "cell_type": "code",
   "execution_count": null,
   "id": "eb3f3fd2",
   "metadata": {},
   "outputs": [],
   "source": []
  },
  {
   "cell_type": "code",
   "execution_count": null,
   "id": "e2c51cf8",
   "metadata": {},
   "outputs": [],
   "source": []
  },
  {
   "cell_type": "code",
   "execution_count": null,
   "id": "edd403c8",
   "metadata": {},
   "outputs": [],
   "source": []
  },
  {
   "cell_type": "code",
   "execution_count": null,
   "id": "253858c8",
   "metadata": {},
   "outputs": [],
   "source": []
  },
  {
   "cell_type": "code",
   "execution_count": null,
   "id": "db91907b",
   "metadata": {},
   "outputs": [],
   "source": []
  },
  {
   "cell_type": "code",
   "execution_count": null,
   "id": "0e04a516",
   "metadata": {},
   "outputs": [],
   "source": []
  },
  {
   "cell_type": "code",
   "execution_count": null,
   "id": "e0100c1f",
   "metadata": {},
   "outputs": [],
   "source": []
  },
  {
   "cell_type": "code",
   "execution_count": null,
   "id": "d35dbafa",
   "metadata": {},
   "outputs": [],
   "source": []
  },
  {
   "cell_type": "code",
   "execution_count": null,
   "id": "21a4bc01",
   "metadata": {},
   "outputs": [],
   "source": []
  },
  {
   "cell_type": "code",
   "execution_count": null,
   "id": "00d6ccde",
   "metadata": {},
   "outputs": [],
   "source": []
  },
  {
   "cell_type": "code",
   "execution_count": null,
   "id": "b5e913a3",
   "metadata": {},
   "outputs": [],
   "source": []
  },
  {
   "cell_type": "code",
   "execution_count": null,
   "id": "64075ffd",
   "metadata": {},
   "outputs": [],
   "source": []
  },
  {
   "cell_type": "code",
   "execution_count": null,
   "id": "07aa3cdb",
   "metadata": {},
   "outputs": [],
   "source": []
  },
  {
   "cell_type": "code",
   "execution_count": null,
   "id": "26fcd0d2",
   "metadata": {},
   "outputs": [],
   "source": []
  },
  {
   "cell_type": "code",
   "execution_count": null,
   "id": "2e694cd8",
   "metadata": {},
   "outputs": [],
   "source": []
  },
  {
   "cell_type": "code",
   "execution_count": null,
   "id": "507a47cb",
   "metadata": {},
   "outputs": [],
   "source": []
  }
 ],
 "metadata": {
  "kernelspec": {
   "display_name": "Python 3 (ipykernel)",
   "language": "python",
   "name": "python3"
  },
  "language_info": {
   "codemirror_mode": {
    "name": "ipython",
    "version": 3
   },
   "file_extension": ".py",
   "mimetype": "text/x-python",
   "name": "python",
   "nbconvert_exporter": "python",
   "pygments_lexer": "ipython3",
   "version": "3.11.5"
  }
 },
 "nbformat": 4,
 "nbformat_minor": 5
}
